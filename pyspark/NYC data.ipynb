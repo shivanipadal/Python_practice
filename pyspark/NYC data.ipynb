{
 "cells": [
  {
   "cell_type": "code",
   "execution_count": 0,
   "metadata": {
    "application/vnd.databricks.v1+cell": {
     "cellMetadata": {
      "byteLimit": 2048000,
      "rowLimit": 10000
     },
     "inputWidgets": {},
     "nuid": "ca90afb8-a103-48aa-bc0a-30a0b6058678",
     "showTitle": false,
     "title": ""
    }
   },
   "outputs": [],
   "source": [
    "import pyspark\n",
    "from pyspark.sql import SparkSession, types\n",
    "from pyspark.sql.types import *\n"
   ]
  },
  {
   "cell_type": "code",
   "execution_count": 0,
   "metadata": {
    "application/vnd.databricks.v1+cell": {
     "cellMetadata": {
      "byteLimit": 2048000,
      "rowLimit": 10000
     },
     "inputWidgets": {},
     "nuid": "903c7ba3-cb3e-4994-a7f8-80f932b5f5fc",
     "showTitle": false,
     "title": ""
    }
   },
   "outputs": [],
   "source": [
    "spark = SparkSession.builder \\\n",
    "        .master('local[*]') \\\n",
    "        .appName('test') \\\n",
    "        .getOrCreate()"
   ]
  },
  {
   "cell_type": "code",
   "execution_count": 0,
   "metadata": {
    "application/vnd.databricks.v1+cell": {
     "cellMetadata": {
      "byteLimit": 2048000,
      "rowLimit": 10000
     },
     "inputWidgets": {},
     "nuid": "76b1dc47-b2a1-4bb2-95f2-8e378b60c939",
     "showTitle": false,
     "title": ""
    }
   },
   "outputs": [],
   "source": [
    "df = spark.read.parquet('/FileStore/tables/fhv_tripdata_2023_01.parquet', header=True)"
   ]
  },
  {
   "cell_type": "code",
   "execution_count": 0,
   "metadata": {
    "application/vnd.databricks.v1+cell": {
     "cellMetadata": {
      "byteLimit": 2048000,
      "rowLimit": 10000
     },
     "inputWidgets": {},
     "nuid": "87c2c527-6215-499e-aeb1-8200928a8dd6",
     "showTitle": false,
     "title": ""
    }
   },
   "outputs": [
    {
     "output_type": "stream",
     "name": "stdout",
     "output_type": "stream",
     "text": [
      "+--------------------+-------------------+-------------------+------------+------------+-------+----------------------+\n|dispatching_base_num|    pickup_datetime|   dropOff_datetime|PUlocationID|DOlocationID|SR_Flag|Affiliated_base_number|\n+--------------------+-------------------+-------------------+------------+------------+-------+----------------------+\n|              B00008|2023-01-01 00:30:00|2023-01-01 01:00:00|        null|        null|   null|                B00008|\n|              B00078|2023-01-01 00:01:00|2023-01-01 03:15:00|        null|        null|   null|                B00078|\n|              B00111|2023-01-01 00:30:00|2023-01-01 01:05:00|        null|        null|   null|                B03406|\n|              B00112|2023-01-01 00:34:45|2023-01-01 00:52:03|        null|        14.0|   null|                B00112|\n|              B00112|2023-01-01 00:11:20|2023-01-01 00:22:03|        null|        14.0|   null|                B00112|\n|              B00112|2023-01-01 00:33:28|2023-01-01 00:53:46|        null|        29.0|   null|                B00112|\n|              B00112|2023-01-01 00:33:11|2023-01-01 00:48:45|        null|        14.0|   null|                B00112|\n|              B00112|2023-01-01 00:55:24|2023-01-01 01:02:55|        null|        14.0|   null|                B00112|\n|              B00112|2023-01-01 00:39:16|2023-01-01 00:39:23|        null|        14.0|   null|                B00112|\n|              B00112|2023-01-01 00:50:10|2023-01-01 00:50:17|        null|        14.0|   null|                B00112|\n+--------------------+-------------------+-------------------+------------+------------+-------+----------------------+\nonly showing top 10 rows\n\n"
     ]
    }
   ],
   "source": [
    "df.show(10)"
   ]
  },
  {
   "cell_type": "code",
   "execution_count": 0,
   "metadata": {
    "application/vnd.databricks.v1+cell": {
     "cellMetadata": {
      "byteLimit": 2048000,
      "rowLimit": 10000
     },
     "inputWidgets": {},
     "nuid": "5743f36e-df26-4fb9-b13a-2bf4f42785fb",
     "showTitle": false,
     "title": ""
    }
   },
   "outputs": [
    {
     "output_type": "stream",
     "name": "stdout",
     "output_type": "stream",
     "text": [
      "Out[13]: 's/b44'"
     ]
    }
   ],
   "source": [
    "from pyspark.sql import functions as F\n",
    "def crazy_stuff(base_num):\n",
    "    num = int(base_num[1:])\n",
    "    if num%7 == 0:\n",
    "        return f's/{num:03x}'\n",
    "    elif num%3 == 0:\n",
    "        return f'a/{num:03x}'\n",
    "    else:\n",
    "        return f'e/{num:03x}'\n",
    "    \n",
    "crazy_stuff('B02884')\n"
   ]
  },
  {
   "cell_type": "code",
   "execution_count": 0,
   "metadata": {
    "application/vnd.databricks.v1+cell": {
     "cellMetadata": {
      "byteLimit": 2048000,
      "rowLimit": 10000
     },
     "inputWidgets": {},
     "nuid": "d1f6913d-54bb-455e-9754-300a6cf0d8c9",
     "showTitle": false,
     "title": ""
    }
   },
   "outputs": [],
   "source": [
    "crazy_stuff_udf = F.udf(crazy_stuff, returnType=types.StringType())"
   ]
  },
  {
   "cell_type": "code",
   "execution_count": 0,
   "metadata": {
    "application/vnd.databricks.v1+cell": {
     "cellMetadata": {
      "byteLimit": 2048000,
      "rowLimit": 10000
     },
     "inputWidgets": {},
     "nuid": "78a198c8-722b-47f3-a70d-68802a97a278",
     "showTitle": false,
     "title": ""
    }
   },
   "outputs": [
    {
     "output_type": "stream",
     "name": "stdout",
     "output_type": "stream",
     "text": [
      "+-------+-----------+------------+------------+------------+\n|base_id|pickup_date|dropoff_date|PULocationID|DOLocationID|\n+-------+-----------+------------+------------+------------+\n|  e/008| 2023-01-01|  2023-01-01|        null|        null|\n|  a/04e| 2023-01-01|  2023-01-01|        null|        null|\n|  a/06f| 2023-01-01|  2023-01-01|        null|        null|\n|  s/070| 2023-01-01|  2023-01-01|        null|        14.0|\n|  s/070| 2023-01-01|  2023-01-01|        null|        14.0|\n|  s/070| 2023-01-01|  2023-01-01|        null|        29.0|\n|  s/070| 2023-01-01|  2023-01-01|        null|        14.0|\n|  s/070| 2023-01-01|  2023-01-01|        null|        14.0|\n|  s/070| 2023-01-01|  2023-01-01|        null|        14.0|\n|  s/070| 2023-01-01|  2023-01-01|        null|        14.0|\n+-------+-----------+------------+------------+------------+\nonly showing top 10 rows\n\n"
     ]
    }
   ],
   "source": [
    "df.withColumn('pickup_date',F.to_date(df.pickup_datetime)) \\\n",
    "   .withColumn('dropoff_date',F.to_date(df.dropOff_datetime)) \\\n",
    "    .withColumn('base_id', crazy_stuff_udf(df.dispatching_base_num)) \\\n",
    "    .select('base_id', 'pickup_date', 'dropoff_date', 'PULocationID', 'DOLocationID') \\\n",
    "    .show(10)"
   ]
  },
  {
   "cell_type": "code",
   "execution_count": 0,
   "metadata": {
    "application/vnd.databricks.v1+cell": {
     "cellMetadata": {
      "byteLimit": 2048000,
      "rowLimit": 10000
     },
     "inputWidgets": {},
     "nuid": "fa2c5d7d-4ccc-4806-bdd8-a0d4718f4181",
     "showTitle": false,
     "title": ""
    }
   },
   "outputs": [
    {
     "output_type": "stream",
     "name": "stdout",
     "output_type": "stream",
     "text": [
      "Out[44]: ['dispatching_base_num',\n 'pickup_datetime',\n 'dropOff_datetime',\n 'PUlocationID',\n 'DOlocationID',\n 'SR_Flag',\n 'Affiliated_base_number']"
     ]
    }
   ],
   "source": [
    "df.columns"
   ]
  },
  {
   "cell_type": "code",
   "execution_count": 0,
   "metadata": {
    "application/vnd.databricks.v1+cell": {
     "cellMetadata": {
      "byteLimit": 2048000,
      "rowLimit": 10000
     },
     "inputWidgets": {},
     "nuid": "6ed26cb8-4e6e-4d15-bf87-641ff3271323",
     "showTitle": false,
     "title": ""
    }
   },
   "outputs": [
    {
     "output_type": "stream",
     "name": "stdout",
     "output_type": "stream",
     "text": [
      "+-------------------+-------------------+------------+------------+\n|    pickup_datetime|   dropoff_datetime|PULocationID|DOLocationId|\n+-------------------+-------------------+------------+------------+\n|2023-01-01 00:34:45|2023-01-01 00:52:03|        null|        14.0|\n|2023-01-01 00:11:20|2023-01-01 00:22:03|        null|        14.0|\n|2023-01-01 00:33:11|2023-01-01 00:48:45|        null|        14.0|\n|2023-01-01 00:55:24|2023-01-01 01:02:55|        null|        14.0|\n|2023-01-01 00:39:16|2023-01-01 00:39:23|        null|        14.0|\n|2023-01-01 00:50:10|2023-01-01 00:50:17|        null|        14.0|\n|2023-01-01 00:37:04|2023-01-01 00:57:13|        null|        14.0|\n|2023-01-01 00:31:15|2023-01-01 00:35:57|        null|        14.0|\n|2023-01-01 00:19:50|2023-01-01 00:23:52|        null|        14.0|\n|2023-01-01 00:51:14|2023-01-01 01:04:34|        null|        14.0|\n+-------------------+-------------------+------------+------------+\nonly showing top 10 rows\n\n"
     ]
    }
   ],
   "source": [
    "df.select('pickup_datetime', 'dropoff_datetime', 'PULocationID',  'DOLocationId') \\\n",
    "    .filter(df.DOlocationID == '14').show(10)"
   ]
  },
  {
   "cell_type": "code",
   "execution_count": 0,
   "metadata": {
    "application/vnd.databricks.v1+cell": {
     "cellMetadata": {
      "byteLimit": 2048000,
      "rowLimit": 10000
     },
     "inputWidgets": {},
     "nuid": "d6c0c962-01f9-4815-aa62-a21d2140ecc9",
     "showTitle": false,
     "title": ""
    }
   },
   "outputs": [],
   "source": [
    "df_green = spark.read.parquet('/FileStore/tables/green_tripdata_2023_01.parquet', header=True)"
   ]
  },
  {
   "cell_type": "code",
   "execution_count": 0,
   "metadata": {
    "application/vnd.databricks.v1+cell": {
     "cellMetadata": {
      "byteLimit": 2048000,
      "rowLimit": 10000
     },
     "inputWidgets": {},
     "nuid": "087bbae2-2cbd-4e2c-aced-b81a8c4c4395",
     "showTitle": false,
     "title": ""
    }
   },
   "outputs": [],
   "source": [
    "df_yellow = spark.read.parquet('/FileStore/tables/yellow_tripdata_2023_01.parquet', header=True)"
   ]
  },
  {
   "cell_type": "code",
   "execution_count": 0,
   "metadata": {
    "application/vnd.databricks.v1+cell": {
     "cellMetadata": {
      "byteLimit": 2048000,
      "rowLimit": 10000
     },
     "inputWidgets": {},
     "nuid": "72518632-d0fa-41ce-8843-4586ad90fbe1",
     "showTitle": false,
     "title": ""
    }
   },
   "outputs": [],
   "source": [
    "df_green = df_green.withColumnRenamed('lpep_pickup_datetime', 'pickup_datetime') \\\n",
    "            .withColumnRenamed('lpep_dropoff_datetime', 'drop_off_date')"
   ]
  },
  {
   "cell_type": "code",
   "execution_count": 0,
   "metadata": {
    "application/vnd.databricks.v1+cell": {
     "cellMetadata": {
      "byteLimit": 2048000,
      "rowLimit": 10000
     },
     "inputWidgets": {},
     "nuid": "b1883817-c03e-4dd0-8fb4-51e6cdbceaee",
     "showTitle": false,
     "title": ""
    }
   },
   "outputs": [],
   "source": [
    "df_yellow = df_yellow.withColumnRenamed('tpep_pickup_datetime', 'pickup_datetime') \\\n",
    "            .withColumnRenamed('tpep_dropoff_datetime', 'dropoff_datetime')"
   ]
  },
  {
   "cell_type": "code",
   "execution_count": 0,
   "metadata": {
    "application/vnd.databricks.v1+cell": {
     "cellMetadata": {
      "byteLimit": 2048000,
      "rowLimit": 10000
     },
     "inputWidgets": {},
     "nuid": "15cf0da4-1388-4de7-9503-b874c3576f06",
     "showTitle": false,
     "title": ""
    }
   },
   "outputs": [],
   "source": [
    "common_columns = []\n",
    "\n",
    "yellow_columns = set(df_yellow.columns)\n",
    "\n",
    "for col in df_green.columns:\n",
    "    if col in yellow_columns:\n",
    "        common_columns.append(col)"
   ]
  },
  {
   "cell_type": "code",
   "execution_count": 0,
   "metadata": {
    "application/vnd.databricks.v1+cell": {
     "cellMetadata": {
      "byteLimit": 2048000,
      "rowLimit": 10000
     },
     "inputWidgets": {},
     "nuid": "c2a0a3b1-1f0f-4551-911c-799214c28ee3",
     "showTitle": false,
     "title": ""
    }
   },
   "outputs": [],
   "source": [
    "from pyspark.sql import functions as F"
   ]
  },
  {
   "cell_type": "code",
   "execution_count": 0,
   "metadata": {
    "application/vnd.databricks.v1+cell": {
     "cellMetadata": {
      "byteLimit": 2048000,
      "rowLimit": 10000
     },
     "inputWidgets": {},
     "nuid": "500c31ea-ae41-4a5e-a8a6-24d720783149",
     "showTitle": false,
     "title": ""
    }
   },
   "outputs": [],
   "source": [
    "df_green_sel = df_green \\\n",
    "                .select(common_columns) \\\n",
    "                .withColumn('service_type', F.lit('green'))\n",
    "\n",
    "df_yellow_sel = df_yellow \\\n",
    "                    .select(common_columns) \\\n",
    "                    .withColumn('service_type', F.lit('yellow'))"
   ]
  },
  {
   "cell_type": "code",
   "execution_count": 0,
   "metadata": {
    "application/vnd.databricks.v1+cell": {
     "cellMetadata": {
      "byteLimit": 2048000,
      "rowLimit": 10000
     },
     "inputWidgets": {},
     "nuid": "6f25ec30-44c0-47de-a1d1-7e31bad7a334",
     "showTitle": false,
     "title": ""
    }
   },
   "outputs": [],
   "source": [
    "df_trips_data = df_green_sel.unionAll(df_yellow_sel)"
   ]
  },
  {
   "cell_type": "code",
   "execution_count": 0,
   "metadata": {
    "application/vnd.databricks.v1+cell": {
     "cellMetadata": {
      "byteLimit": 2048000,
      "rowLimit": 10000
     },
     "inputWidgets": {},
     "nuid": "b26f48e6-433c-419a-a74e-e8d72b252811",
     "showTitle": false,
     "title": ""
    }
   },
   "outputs": [
    {
     "output_type": "stream",
     "name": "stdout",
     "output_type": "stream",
     "text": [
      "+--------+-------------------+------------------+----------+------------+------------+---------------+-------------+-----------+-----+-------+----------+------------+---------------------+------------+------------+--------------------+------------+\n|VendorID|    pickup_datetime|store_and_fwd_flag|RatecodeID|PULocationID|DOLocationID|passenger_count|trip_distance|fare_amount|extra|mta_tax|tip_amount|tolls_amount|improvement_surcharge|total_amount|payment_type|congestion_surcharge|service_type|\n+--------+-------------------+------------------+----------+------------+------------+---------------+-------------+-----------+-----+-------+----------+------------+---------------------+------------+------------+--------------------+------------+\n|       2|2023-01-01 00:26:10|                 N|       1.0|         166|         143|            1.0|         2.58|       14.9|  1.0|    0.5|      4.03|         0.0|                  1.0|       24.18|         1.0|                2.75|       green|\n|       2|2023-01-01 00:51:03|                 N|       1.0|          24|          43|            1.0|         1.81|       10.7|  1.0|    0.5|      2.64|         0.0|                  1.0|       15.84|         1.0|                 0.0|       green|\n|       2|2023-01-01 00:35:12|                 N|       1.0|         223|         179|            1.0|          0.0|        7.2|  1.0|    0.5|      1.94|         0.0|                  1.0|       11.64|         1.0|                 0.0|       green|\n|       1|2023-01-01 00:13:14|                 N|       1.0|          41|         238|            1.0|          1.3|        6.5|  0.5|    1.5|       1.7|         0.0|                  1.0|        10.2|         1.0|                 0.0|       green|\n|       1|2023-01-01 00:33:04|                 N|       1.0|          41|          74|            1.0|          1.1|        6.0|  0.5|    1.5|       0.0|         0.0|                  1.0|         8.0|         1.0|                 0.0|       green|\n|       2|2023-01-01 00:53:31|                 N|       1.0|          41|         262|            1.0|         2.78|       17.7|  1.0|    0.5|       0.0|         0.0|                  1.0|       22.95|         2.0|                2.75|       green|\n|       1|2023-01-01 00:09:14|                 N|       1.0|         181|          45|            2.0|          3.8|       19.1| 3.75|    1.5|      4.85|         0.0|                  1.0|        29.2|         1.0|                2.75|       green|\n|       2|2023-01-01 00:11:58|                 N|       1.0|          24|          75|            1.0|         1.88|       14.2|  1.0|    0.5|       0.0|         0.0|                  1.0|        16.7|         2.0|                 0.0|       green|\n|       2|2023-01-01 00:41:29|                 N|       1.0|          41|         166|            2.0|         1.11|        7.2|  1.0|    0.5|       1.0|         0.0|                  1.0|        10.7|         1.0|                 0.0|       green|\n|       2|2023-01-01 00:50:32|                 N|       1.0|          24|         140|            1.0|         4.22|       24.7|  1.0|    0.5|       3.0|         0.0|                  1.0|       32.95|         1.0|                2.75|       green|\n+--------+-------------------+------------------+----------+------------+------------+---------------+-------------+-----------+-----+-------+----------+------------+---------------------+------------+------------+--------------------+------------+\nonly showing top 10 rows\n\n"
     ]
    }
   ],
   "source": [
    "df_trips_data.show(10)"
   ]
  },
  {
   "cell_type": "code",
   "execution_count": 0,
   "metadata": {
    "application/vnd.databricks.v1+cell": {
     "cellMetadata": {
      "byteLimit": 2048000,
      "rowLimit": 10000
     },
     "inputWidgets": {},
     "nuid": "d7d102c7-f12a-45d7-8f0a-3cbb27dde326",
     "showTitle": false,
     "title": ""
    }
   },
   "outputs": [
    {
     "output_type": "stream",
     "name": "stdout",
     "output_type": "stream",
     "text": [
      "+------------+-------+\n|service_type|  count|\n+------------+-------+\n|       green|  68211|\n|      yellow|3066766|\n+------------+-------+\n\n"
     ]
    }
   ],
   "source": [
    "df_trips_data.groupBy('service_type').count().show()"
   ]
  },
  {
   "cell_type": "code",
   "execution_count": 0,
   "metadata": {
    "application/vnd.databricks.v1+cell": {
     "cellMetadata": {
      "byteLimit": 2048000,
      "rowLimit": 10000
     },
     "inputWidgets": {},
     "nuid": "fd0748b0-0435-4bd2-9601-eb27f163e5b1",
     "showTitle": false,
     "title": ""
    }
   },
   "outputs": [
    {
     "output_type": "stream",
     "name": "stdout",
     "output_type": "stream",
     "text": [
      "Out[72]: ['VendorID',\n 'pickup_datetime',\n 'store_and_fwd_flag',\n 'RatecodeID',\n 'PULocationID',\n 'DOLocationID',\n 'passenger_count',\n 'trip_distance',\n 'fare_amount',\n 'extra',\n 'mta_tax',\n 'tip_amount',\n 'tolls_amount',\n 'improvement_surcharge',\n 'total_amount',\n 'payment_type',\n 'congestion_surcharge',\n 'service_type']"
     ]
    }
   ],
   "source": [
    "df_trips_data.columns"
   ]
  },
  {
   "cell_type": "code",
   "execution_count": 0,
   "metadata": {
    "application/vnd.databricks.v1+cell": {
     "cellMetadata": {
      "byteLimit": 2048000,
      "rowLimit": 10000
     },
     "inputWidgets": {},
     "nuid": "3bd69195-3925-4867-83d1-902ddde6bd36",
     "showTitle": false,
     "title": ""
    }
   },
   "outputs": [
    {
     "output_type": "stream",
     "name": "stderr",
     "output_type": "stream",
     "text": [
      "/databricks/spark/python/pyspark/sql/dataframe.py:331: FutureWarning: Deprecated in 2.0, use createOrReplaceTempView instead.\n  warnings.warn(\"Deprecated in 2.0, use createOrReplaceTempView instead.\", FutureWarning)\n"
     ]
    }
   ],
   "source": [
    "df_trips_data.registerTempTable('trips_data')"
   ]
  },
  {
   "cell_type": "code",
   "execution_count": 0,
   "metadata": {
    "application/vnd.databricks.v1+cell": {
     "cellMetadata": {
      "byteLimit": 2048000,
      "implicitDf": true,
      "rowLimit": 10000
     },
     "inputWidgets": {},
     "nuid": "350aaf74-4275-4580-b01f-ba3befa9649d",
     "showTitle": false,
     "title": ""
    }
   },
   "outputs": [
    {
     "output_type": "display_data",
     "data": {
      "text/html": [
       "<style scoped>\n",
       "  .table-result-container {\n",
       "    max-height: 300px;\n",
       "    overflow: auto;\n",
       "  }\n",
       "  table, th, td {\n",
       "    border: 1px solid black;\n",
       "    border-collapse: collapse;\n",
       "  }\n",
       "  th, td {\n",
       "    padding: 5px;\n",
       "  }\n",
       "  th {\n",
       "    text-align: left;\n",
       "  }\n",
       "</style><div class='table-result-container'><table class='table-result'><thead style='background-color: white'><tr><th>count(1)</th></tr></thead><tbody><tr><td>3134977</td></tr></tbody></table></div>"
      ]
     },
     "metadata": {
      "application/vnd.databricks.v1+output": {
       "addedWidgets": {},
       "aggData": [],
       "aggError": "",
       "aggOverflow": false,
       "aggSchema": [],
       "aggSeriesLimitReached": false,
       "aggType": "",
       "arguments": {},
       "columnCustomDisplayInfos": {},
       "data": [
        [
         3134977
        ]
       ],
       "datasetInfos": [],
       "dbfsResultPath": null,
       "isJsonSchema": true,
       "metadata": {},
       "overflow": false,
       "plotOptions": {
        "customPlotOptions": {},
        "displayType": "table",
        "pivotAggregation": null,
        "pivotColumns": null,
        "xColumns": null,
        "yColumns": null
       },
       "removedWidgets": [],
       "schema": [
        {
         "metadata": "{\"__autoGeneratedAlias\":\"true\"}",
         "name": "count(1)",
         "type": "\"long\""
        }
       ],
       "type": "table"
      }
     },
     "output_type": "display_data"
    }
   ],
   "source": [
    "%sql\n",
    "\n",
    "select count(*) from trips_data"
   ]
  },
  {
   "cell_type": "code",
   "execution_count": 0,
   "metadata": {
    "application/vnd.databricks.v1+cell": {
     "cellMetadata": {
      "byteLimit": 2048000,
      "implicitDf": true,
      "rowLimit": 10000
     },
     "inputWidgets": {},
     "nuid": "e98ff43d-aafa-443f-9ab6-d2b9c296929c",
     "showTitle": false,
     "title": ""
    }
   },
   "outputs": [
    {
     "output_type": "stream",
     "name": "stdout",
     "output_type": "stream",
     "text": [
      "+------------+--------+\n|service_type|count(1)|\n+------------+--------+\n|       green|   68211|\n|      yellow| 3066766|\n+------------+--------+\n\n"
     ]
    }
   ],
   "source": [
    "spark.sql(\"\"\"select \n",
    "  service_type, count(1)\n",
    "from \n",
    "  trips_data\n",
    "group by \n",
    "  service_type\"\"\").show()"
   ]
  },
  {
   "cell_type": "markdown",
   "metadata": {
    "application/vnd.databricks.v1+cell": {
     "cellMetadata": {},
     "inputWidgets": {},
     "nuid": "9d126c76-3c9f-420d-818d-676b9cc73edb",
     "showTitle": false,
     "title": ""
    }
   },
   "source": [
    "\n",
    "### Group by and Join"
   ]
  },
  {
   "cell_type": "code",
   "execution_count": 0,
   "metadata": {
    "application/vnd.databricks.v1+cell": {
     "cellMetadata": {
      "byteLimit": 2048000,
      "rowLimit": 10000
     },
     "inputWidgets": {},
     "nuid": "e34b2a82-fe5b-4723-af81-575a91512900",
     "showTitle": false,
     "title": ""
    }
   },
   "outputs": [],
   "source": [
    "df_green.createOrReplaceTempView('green')\n"
   ]
  },
  {
   "cell_type": "code",
   "execution_count": 0,
   "metadata": {
    "application/vnd.databricks.v1+cell": {
     "cellMetadata": {
      "byteLimit": 2048000,
      "rowLimit": 10000
     },
     "inputWidgets": {},
     "nuid": "19d7a968-a781-4b9f-8f3a-32c335d8810d",
     "showTitle": false,
     "title": ""
    }
   },
   "outputs": [],
   "source": [
    "df_green_revenue = spark.sql(\"\"\"\n",
    "SELECT \n",
    "    date_trunc('hour', pickup_datetime) AS hour,\n",
    "    PULocationID AS zone,\n",
    "\n",
    "    SUM(total_amount) as amount,\n",
    "    count(1) as number_records\n",
    "FROM\n",
    "    green\n",
    "GROUP BY \n",
    "1, 2\n",
    "\"\"\")"
   ]
  },
  {
   "cell_type": "code",
   "execution_count": 0,
   "metadata": {
    "application/vnd.databricks.v1+cell": {
     "cellMetadata": {
      "byteLimit": 2048000,
      "rowLimit": 10000
     },
     "inputWidgets": {},
     "nuid": "bdb35f38-98d7-43b5-9910-ba3e3d68501c",
     "showTitle": false,
     "title": ""
    }
   },
   "outputs": [
    {
     "output_type": "stream",
     "name": "stdout",
     "output_type": "stream",
     "text": [
      "+-------------------+----+------------------+--------------+\n|               hour|zone|            amount|number_records|\n+-------------------+----+------------------+--------------+\n|2023-01-01 01:00:00| 210|              57.6|             2|\n|2023-01-01 07:00:00| 152|              11.5|             1|\n|2023-01-01 11:00:00| 116|             42.48|             2|\n|2023-01-01 18:00:00| 129|              65.1|             4|\n|2023-01-02 09:00:00|   7|              10.8|             1|\n|2023-01-02 14:00:00|  33|              24.1|             1|\n|2023-01-02 15:00:00|  75|154.97000000000003|             9|\n|2023-01-03 05:00:00|  75|               9.7|             1|\n|2023-01-03 08:00:00|  47|              18.5|             1|\n|2023-01-03 16:00:00|  43|390.28000000000003|            15|\n+-------------------+----+------------------+--------------+\nonly showing top 10 rows\n\n"
     ]
    }
   ],
   "source": [
    "df_green_revenue.show(10)"
   ]
  },
  {
   "cell_type": "markdown",
   "metadata": {
    "application/vnd.databricks.v1+cell": {
     "cellMetadata": {},
     "inputWidgets": {},
     "nuid": "36119198-af44-4df1-9bdb-657f56a2c784",
     "showTitle": false,
     "title": ""
    }
   },
   "source": [
    "### rdd"
   ]
  },
  {
   "cell_type": "markdown",
   "metadata": {
    "application/vnd.databricks.v1+cell": {
     "cellMetadata": {},
     "inputWidgets": {},
     "nuid": "abe75ed5-d4d8-47b4-adf4-00625feaf5dc",
     "showTitle": false,
     "title": ""
    }
   },
   "source": [
    "\n",
    "%md\n",
    "\n",
    "SELECT \n",
    "    date_trunc('hour', lpep_pickup_datetime) AS hour, \n",
    "    PULocationID AS zone,\n",
    "    SUM(total_amount) AS amount,\n",
    "    COUNT(1) AS number_records\n",
    "FROM\n",
    "    green\n",
    "WHERE\n",
    "    lpep_pickup_datetime >= '2020-01-01 00:00:00'\n",
    "GROUP BY\n",
    "    1, 2\n"
   ]
  },
  {
   "cell_type": "code",
   "execution_count": 0,
   "metadata": {
    "application/vnd.databricks.v1+cell": {
     "cellMetadata": {
      "byteLimit": 2048000,
      "rowLimit": 10000
     },
     "inputWidgets": {},
     "nuid": "5ee89819-189b-4003-84c7-a6578717b248",
     "showTitle": false,
     "title": ""
    }
   },
   "outputs": [
    {
     "output_type": "stream",
     "name": "stdout",
     "output_type": "stream",
     "text": [
      "Out[89]: ['VendorID',\n 'pickup_datetime',\n 'drop_off_date',\n 'store_and_fwd_flag',\n 'RatecodeID',\n 'PULocationID',\n 'DOLocationID',\n 'passenger_count',\n 'trip_distance',\n 'fare_amount',\n 'extra',\n 'mta_tax',\n 'tip_amount',\n 'tolls_amount',\n 'ehail_fee',\n 'improvement_surcharge',\n 'total_amount',\n 'payment_type',\n 'trip_type',\n 'congestion_surcharge']"
     ]
    }
   ],
   "source": [
    "df_green.columns"
   ]
  },
  {
   "cell_type": "code",
   "execution_count": 0,
   "metadata": {
    "application/vnd.databricks.v1+cell": {
     "cellMetadata": {
      "byteLimit": 2048000,
      "rowLimit": 10000
     },
     "inputWidgets": {},
     "nuid": "eee0d717-4138-4881-8ecc-08c1652057de",
     "showTitle": false,
     "title": ""
    }
   },
   "outputs": [],
   "source": [
    "rdd = df_green \\\n",
    "    .select('pickup_datetime', 'PULocationID', 'total_amount') \\\n",
    "    .rdd"
   ]
  },
  {
   "cell_type": "code",
   "execution_count": 0,
   "metadata": {
    "application/vnd.databricks.v1+cell": {
     "cellMetadata": {
      "byteLimit": 2048000,
      "rowLimit": 10000
     },
     "inputWidgets": {},
     "nuid": "960c26aa-953f-4ca1-853c-a91c3ab96734",
     "showTitle": false,
     "title": ""
    }
   },
   "outputs": [
    {
     "output_type": "stream",
     "name": "stdout",
     "output_type": "stream",
     "text": [
      "Out[93]: [Row(pickup_datetime=datetime.datetime(2023, 1, 1, 0, 26, 10), PULocationID=166, total_amount=24.18),\n Row(pickup_datetime=datetime.datetime(2023, 1, 1, 0, 51, 3), PULocationID=24, total_amount=15.84),\n Row(pickup_datetime=datetime.datetime(2023, 1, 1, 0, 35, 12), PULocationID=223, total_amount=11.64),\n Row(pickup_datetime=datetime.datetime(2023, 1, 1, 0, 13, 14), PULocationID=41, total_amount=10.2),\n Row(pickup_datetime=datetime.datetime(2023, 1, 1, 0, 33, 4), PULocationID=41, total_amount=8.0),\n Row(pickup_datetime=datetime.datetime(2023, 1, 1, 0, 53, 31), PULocationID=41, total_amount=22.95),\n Row(pickup_datetime=datetime.datetime(2023, 1, 1, 0, 9, 14), PULocationID=181, total_amount=29.2),\n Row(pickup_datetime=datetime.datetime(2023, 1, 1, 0, 11, 58), PULocationID=24, total_amount=16.7),\n Row(pickup_datetime=datetime.datetime(2023, 1, 1, 0, 41, 29), PULocationID=41, total_amount=10.7),\n Row(pickup_datetime=datetime.datetime(2023, 1, 1, 0, 50, 32), PULocationID=24, total_amount=32.95)]"
     ]
    }
   ],
   "source": [
    "rdd.take(10)"
   ]
  },
  {
   "cell_type": "code",
   "execution_count": 0,
   "metadata": {
    "application/vnd.databricks.v1+cell": {
     "cellMetadata": {
      "byteLimit": 2048000,
      "rowLimit": 10000
     },
     "inputWidgets": {},
     "nuid": "7934a771-0b25-4b42-b2c0-c77dd7c5df93",
     "showTitle": false,
     "title": ""
    }
   },
   "outputs": [],
   "source": [
    "def prepare_for_grouping(row):\n",
    "    hour = row.pickup_datetime.replace(minute=0, second=0, microsecond=0)\n",
    "    zone = row.PULocationID\n",
    "    key = (hour, zone)\n",
    "\n",
    "    amount = row.total_amount\n",
    "    count = 1\n",
    "    value = (amount, count)\n",
    "\n",
    "    return (key, value)"
   ]
  },
  {
   "cell_type": "code",
   "execution_count": 0,
   "metadata": {
    "application/vnd.databricks.v1+cell": {
     "cellMetadata": {
      "byteLimit": 2048000,
      "rowLimit": 10000
     },
     "inputWidgets": {},
     "nuid": "85d95210-b5b4-4a82-97d5-0dc4ed8fcced",
     "showTitle": false,
     "title": ""
    }
   },
   "outputs": [],
   "source": [
    "def calculate_revenue(left_value, right_value):\n",
    "    left_amount, left_count = left_value\n",
    "    right_amount, right_count = right_value\n",
    "    output_amount = left_amount + right_amount\n",
    "    output_count = left_count + right_count\n",
    "\n",
    "    return (output_amount, output_count)"
   ]
  },
  {
   "cell_type": "code",
   "execution_count": 0,
   "metadata": {
    "application/vnd.databricks.v1+cell": {
     "cellMetadata": {
      "byteLimit": 2048000,
      "rowLimit": 10000
     },
     "inputWidgets": {},
     "nuid": "33f6f98d-4b62-43b3-85b8-fcd5a4bed062",
     "showTitle": false,
     "title": ""
    }
   },
   "outputs": [],
   "source": [
    "from collections import namedtuple\n"
   ]
  },
  {
   "cell_type": "code",
   "execution_count": 0,
   "metadata": {
    "application/vnd.databricks.v1+cell": {
     "cellMetadata": {
      "byteLimit": 2048000,
      "rowLimit": 10000
     },
     "inputWidgets": {},
     "nuid": "57852f5a-01e7-4ed2-b43f-c853123a2633",
     "showTitle": false,
     "title": ""
    }
   },
   "outputs": [],
   "source": [
    "Revenuerow = namedtuple('RevenueRow', ['hour', 'zone', 'revenue', 'count'])"
   ]
  },
  {
   "cell_type": "code",
   "execution_count": 0,
   "metadata": {
    "application/vnd.databricks.v1+cell": {
     "cellMetadata": {
      "byteLimit": 2048000,
      "rowLimit": 10000
     },
     "inputWidgets": {},
     "nuid": "eeca6b51-bbc5-472b-8111-7de31404dae5",
     "showTitle": false,
     "title": ""
    }
   },
   "outputs": [],
   "source": [
    "def unwrap(row):\n",
    "    return Revenuerow(hour=row[0][0],\n",
    "                      zone=row[0][1],\n",
    "                      revenue=row[1][0],\n",
    "                      count=row[1][1])"
   ]
  },
  {
   "cell_type": "code",
   "execution_count": 0,
   "metadata": {
    "application/vnd.databricks.v1+cell": {
     "cellMetadata": {
      "byteLimit": 2048000,
      "rowLimit": 10000
     },
     "inputWidgets": {},
     "nuid": "dbaea792-85e9-491a-a37c-a97f7df46154",
     "showTitle": false,
     "title": ""
    }
   },
   "outputs": [],
   "source": [
    "result_schema = types.StructType([\n",
    "    types.StructField('hour', types.TimestampType(), True),\n",
    "    types.StructField('zone', types.IntegerType(), True),\n",
    "    types.StructField('revenue', types.DoubleType(), True),\n",
    "    types.StructField('count', types.IntegerType(), True)\n",
    "])"
   ]
  },
  {
   "cell_type": "markdown",
   "metadata": {
    "application/vnd.databricks.v1+cell": {
     "cellMetadata": {},
     "inputWidgets": {},
     "nuid": "33834109-8b24-4566-8899-ffee804c1dbb",
     "showTitle": false,
     "title": ""
    }
   },
   "source": [
    "reduceByKey operation takes the values associated with the same keys and applies the provided function to reduce them."
   ]
  },
  {
   "cell_type": "code",
   "execution_count": 0,
   "metadata": {
    "application/vnd.databricks.v1+cell": {
     "cellMetadata": {
      "byteLimit": 2048000,
      "rowLimit": 10000
     },
     "inputWidgets": {},
     "nuid": "c26125fb-f61c-456d-8042-c5d22bba910c",
     "showTitle": false,
     "title": ""
    }
   },
   "outputs": [],
   "source": [
    "df_result = rdd \\\n",
    "            .map(prepare_for_grouping) \\\n",
    "            .reduceByKey(calculate_revenue) \\\n",
    "            .map(unwrap) \\\n",
    "            .toDF(result_schema)"
   ]
  },
  {
   "cell_type": "code",
   "execution_count": 0,
   "metadata": {
    "application/vnd.databricks.v1+cell": {
     "cellMetadata": {
      "byteLimit": 2048000,
      "rowLimit": 10000
     },
     "inputWidgets": {},
     "nuid": "8dfae007-a1e5-46e1-a720-2c013491be19",
     "showTitle": false,
     "title": ""
    }
   },
   "outputs": [
    {
     "output_type": "stream",
     "name": "stdout",
     "output_type": "stream",
     "text": [
      "+-------------------+----+-----------------+-----+\n|               hour|zone|          revenue|count|\n+-------------------+----+-----------------+-----+\n|2023-01-01 00:00:00| 166|86.53999999999999|    3|\n|2023-01-01 00:00:00|  24|            132.3|    5|\n|2023-01-01 00:00:00| 223|            11.64|    1|\n|2023-01-01 00:00:00|  41|98.75999999999999|    8|\n|2023-01-01 00:00:00| 181|             29.2|    1|\n+-------------------+----+-----------------+-----+\nonly showing top 5 rows\n\n"
     ]
    }
   ],
   "source": [
    "df_result.show(5)"
   ]
  },
  {
   "cell_type": "code",
   "execution_count": 0,
   "metadata": {
    "application/vnd.databricks.v1+cell": {
     "cellMetadata": {},
     "inputWidgets": {},
     "nuid": "b2a0390b-c1b8-4c60-9e71-ff83b41a6059",
     "showTitle": false,
     "title": ""
    }
   },
   "outputs": [],
   "source": []
  }
 ],
 "metadata": {
  "application/vnd.databricks.v1+notebook": {
   "dashboards": [],
   "language": "python",
   "notebookMetadata": {
    "mostRecentlyExecutedCommandWithImplicitDF": {
     "commandId": -1,
     "dataframes": [
      "_sqldf"
     ]
    },
    "pythonIndentUnit": 4
   },
   "notebookName": "NYC data",
   "widgets": {}
  }
 },
 "nbformat": 4,
 "nbformat_minor": 0
}
